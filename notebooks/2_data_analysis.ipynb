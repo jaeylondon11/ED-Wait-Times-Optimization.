```python
# Import necessary libraries
import pandas as pd
import numpy as np

# Load CSV data
data = pd.read_csv('hospital_data.csv')

# Display first few rows
print(data.head())

# Handling missing values
data.fillna(method='ffill', inplace=True)

# Remove duplicates
data.drop_duplicates(inplace=True)

# Normalizing numerical columns
numerical_cols = ['column1', 'column2']  # Replace with actual column names
data[numerical_cols] = (data[numerical_cols] - data[numerical_cols].mean()) / data[numerical_cols].std()

# Save cleaned data
data.to_csv('cleaned_hospital_data.csv', index=False)
