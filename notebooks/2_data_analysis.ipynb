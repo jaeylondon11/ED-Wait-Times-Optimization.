# Import necessary libraries
import pandas as pd
import seaborn as sns
import matplotlib.pyplot as plt

# Load the cleaned CSV file
file_path = 'data/processed/cleaned_ed_wait_times.csv'
df = pd.read_csv(file_path)

# Display the first few rows
df.head()

# Display basic information about the data
df.info()

# Exploratory Data Analysis (EDA)

# User Story 1: Average wait times across different hospitals
plt.figure(figsize=(12, 6))
sns.barplot(x='hospital', y='wait_time', data=df, estimator=lambda x: sum(x) / len(x))
plt.title('Average Wait Times by Hospital')
plt.xlabel('Hospital')
plt.ylabel('Average Wait Time (minutes)')
plt.xticks(rotation=45)
plt.show()

# User Story 2: Distribution of wait times by triage level
plt.figure(figsize=(12, 6))
sns.boxplot(x='triage_level', y='wait_time', data=df)
plt.title('Wait Times by Triage Level')
plt.xlabel('Triage Level')
plt.ylabel('Wait Time (minutes)')
plt.show()

# User Story 3: Resource allocation impact on wait times
plt.figure(figsize=(12, 6))
sns.boxplot(x='resource_needed', y='wait_time', data=df)
plt.title('Wait Times by Resource Needed')
plt.xlabel('Resource Needed')
plt.ylabel('Wait Time (minutes)')
plt.show()

# User Story 4: Wait times trends over different times of the day
df['arrival_time'] = pd.to_datetime(df['arrival
