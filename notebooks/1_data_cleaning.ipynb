{
 "cells": [
  {
   "cell_type": "code",
   "execution_count": null,
   "id": "data-cleaning",
   "metadata": {},
   "outputs": [],
   "source": [
    "# Data Cleaning Notebook\n",
    "\n",
    "import pandas as pd\n",
    "from sklearn.impute import SimpleImputer\n",
    "from scipy import stats\n",
    "from sklearn.preprocessing import StandardScaler\n",
    "\n",
    "# Load data\n",
    "df = pd.read_csv('data/raw/ed_data.csv')\n",
    "\n",
    "# Handle missing values\n",
    "imputer = SimpleImputer(strategy='median')\n",
    "df['treatment_time'] = imputer.fit_transform(df[['treatment_time']])\n",
    "df['discharge_time'] = imputer.fit_transform(df[['discharge_time']])\n",
    "\n",
    "# Handle outliers\n",
    "z_scores = stats.zscore(df['wait_time'])\n",
    "df = df[(z_scores < 3) & (z_scores > -3)]\n",
    "\n",
    "# Normalize data\n",
    "scaler = StandardScaler()\n",
    "df[['treatment_time', 'wait_time']] = scaler.fit_transform(df[['treatment_time', 'wait_time']])\n",
    "\n",
    "# Save cleaned data\n",
    "df.to_csv('data/processed/cleaned_ed_data.csv', index=False)\n"
   ]
  }
 ],
 "metadata": {
  "kernelspec": {
   "display_name": "Python 3",
   "language": "python",
   "name": "python3"
  },
  "language_info": {
   "codemirror_mode": {
    "name": "ipython",
    "version": 3
   },
   "file_extension": ".py",
   "mimetype": "text/x-python",
   "name": "python",
   "nbconvert_exporter": "python",
   "pygments_lexer": "ipython3",
   "version": "3.8.5"
  }
 },
 "nbformat": 4,
 "nbformat_minor": 5
}
